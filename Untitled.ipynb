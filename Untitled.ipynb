{
 "cells": [
  {
   "cell_type": "code",
   "execution_count": 1,
   "metadata": {},
   "outputs": [],
   "source": [
    "import pandas as pd\n",
    "import numpy as np\n",
    "import matplotlib.pyplot as plt\n",
    "import seaborn as sns\n",
    "from matplotlib import rcParams\n",
    "%matplotlib inline\n",
    "# figure size\n",
    "rcParams['figure.figsize'] = 8,6"
   ]
  },
  {
   "cell_type": "code",
   "execution_count": 2,
   "metadata": {},
   "outputs": [],
   "source": [
    "loan_all = pd.read_csv(\"C:\\\\Users\\\\Madhava\\\\OneDrive\\\\Documents\\\\UC-BANA\\\\Summer 2018\\\\Capstone\\\\Data LC\\\\combine.csv\",low_memory=False)"
   ]
  },
  {
   "cell_type": "code",
   "execution_count": null,
   "metadata": {},
   "outputs": [],
   "source": [
    "loan_all.info()"
   ]
  },
  {
   "cell_type": "code",
   "execution_count": null,
   "metadata": {
    "scrolled": true
   },
   "outputs": [],
   "source": [
    "loan_all.describe()"
   ]
  },
  {
   "cell_type": "code",
   "execution_count": null,
   "metadata": {
    "scrolled": true
   },
   "outputs": [],
   "source": [
    "loan_all.head(5)"
   ]
  },
  {
   "cell_type": "code",
   "execution_count": null,
   "metadata": {},
   "outputs": [],
   "source": [
    "#Pre-processing"
   ]
  },
  {
   "cell_type": "code",
   "execution_count": 3,
   "metadata": {},
   "outputs": [],
   "source": [
    "#It appears there are a lot of NaNs. Few cols with 100% NAs- id, member_id, url; zip_code info is masked\n",
    "loan_all.drop(['id', 'member_id', 'url', 'zip_code' ], axis=1, inplace=True)"
   ]
  },
  {
   "cell_type": "code",
   "execution_count": 4,
   "metadata": {
    "scrolled": true
   },
   "outputs": [],
   "source": [
    "#also dropping cols with < 1/3 data\n",
    "missingdata = [x for x in loan_all.count() < len(loan_all)*0.33]\n",
    "loan_all.drop(loan_all.columns[missingdata], 1, inplace=True)"
   ]
  },
  {
   "cell_type": "code",
   "execution_count": null,
   "metadata": {},
   "outputs": [],
   "source": [
    "loan_all.shape"
   ]
  },
  {
   "cell_type": "code",
   "execution_count": null,
   "metadata": {},
   "outputs": [],
   "source": [
    "loan_all.columns"
   ]
  },
  {
   "cell_type": "code",
   "execution_count": 5,
   "metadata": {},
   "outputs": [],
   "source": [
    "unique = loan_all.nunique()\n",
    "unique = unique[unique.values == 1]"
   ]
  },
  {
   "cell_type": "code",
   "execution_count": null,
   "metadata": {},
   "outputs": [],
   "source": [
    "loan_all.drop(labels = list(unique.index), axis =1, inplace=True)"
   ]
  },
  {
   "cell_type": "code",
   "execution_count": null,
   "metadata": {},
   "outputs": [],
   "source": [
    "#pd.set_option('display.max_columns', None)\n",
    "loan_all.head()"
   ]
  },
  {
   "cell_type": "code",
   "execution_count": null,
   "metadata": {},
   "outputs": [],
   "source": [
    "#good loans would be - current, fully paid and issued\n",
    "(loan_all['loan_status'].value_counts())/len(loan_all)"
   ]
  },
  {
   "cell_type": "code",
   "execution_count": null,
   "metadata": {},
   "outputs": [],
   "source": [
    "good_loan =  len(loan_all[(loan_all.loan_status == 'Fully Paid') |\n",
    "                    (loan_all.loan_status == 'Current') | \n",
    "                    (loan_all.loan_status == 'Issued')])\n",
    "print ('Good/Bad Loan Ratio: %.2f%%'  % (good_loan/len(loan_all)*100))"
   ]
  },
  {
   "cell_type": "code",
   "execution_count": null,
   "metadata": {},
   "outputs": [],
   "source": [
    "#Feature Engineering-bucketing certain variables"
   ]
  },
  {
   "cell_type": "code",
   "execution_count": null,
   "metadata": {},
   "outputs": [],
   "source": [
    "#loan_all['issue_year'],loan_all['issue_month'] = loan_all['issue_d'].str.split('-', 1).str\n",
    "#loan_all[['issue_d','issue_month','issue_year']].tail()"
   ]
  },
  {
   "cell_type": "code",
   "execution_count": null,
   "metadata": {},
   "outputs": [],
   "source": [
    "#buckets for loan amount- 1000 to 40000 range\n",
    "#loan_all['loan_amnt'].describe()\n",
    "buck = [0, 5000, 10000, 15000, 20000, 25000,40000]\n",
    "lab = ['0-5000', '5000-10000', '10000-15000', '15000-20000', '20000-25000','25000 and above']\n",
    "loan_all['loan_amnt_range'] = pd.cut(loan_all['loan_amnt'], buck, labels=lab)\n",
    "\n",
    "#loan_all['annual_inc'].describe() - range 1 to 100 mill\n",
    "#loan_all[loan_all['annual_inc']>200000]\n",
    "buck = [0, 25000, 50000, 75000, 100000,1000000]\n",
    "lab = ['0-25000', '25000-50000', '50000-75000', '75000-100000', '100000 and above']\n",
    "loan_all['annual_inc_range'] = pd.cut(loan_all['annual_inc'], buck, labels=lab)\n",
    "\n",
    "#loan_all['annual_inc'].describe() - range 1 to 100 mill\n",
    "#loan_all[loan_all['annual_inc']>200000]\n",
    "buck = [0, 25000, 50000, 75000, 100000,1000000]\n",
    "lab = ['0-25000', '25000-50000', '50000-75000', '75000-100000', '100000 and above']\n",
    "loan_all['annual_inc_range'] = pd.cut(loan_all['annual_inc'], buck, labels=lab)\n",
    "\n",
    "\n",
    "loan_all['int_rate'].describe() - range 1 to 100 mill\n",
    "#loan_all[loan_all['annual_inc']>200000]\n",
    "buck = [0, 25000, 50000, 75000, 100000,1000000]\n",
    "lab = ['0-25000', '25000-50000', '50000-75000', '75000-100000', '100000 and above']\n",
    "loan_all['annual_inc_range'] = pd.cut(loan_all['annual_inc'], buck, labels=lab)\n"
   ]
  },
  {
   "cell_type": "code",
   "execution_count": null,
   "metadata": {},
   "outputs": [],
   "source": [
    "#Distributions\n",
    "sns.distplot(loan_all['loan_amnt'])"
   ]
  },
  {
   "cell_type": "code",
   "execution_count": null,
   "metadata": {},
   "outputs": [],
   "source": [
    "loan_all['annual_inc']= loan_all['annual_inc'].astype(float)\n",
    "loan_all['annual_inc'].describe()\n",
    "#len(loan_all[loan_all['annual_inc']>1e+06]) #251 appear to be outliers\n",
    "loan=loan_all.drop(loan_all[loan_all.annual_inc>1e+06].index)"
   ]
  },
  {
   "cell_type": "code",
   "execution_count": null,
   "metadata": {
    "scrolled": true
   },
   "outputs": [],
   "source": [
    "#sns.barplot(loan['int_rate'])"
   ]
  },
  {
   "cell_type": "code",
   "execution_count": null,
   "metadata": {
    "scrolled": true
   },
   "outputs": [],
   "source": [
    "sns.distplot(loan['annual_inc'])"
   ]
  },
  {
   "cell_type": "code",
   "execution_count": null,
   "metadata": {},
   "outputs": [],
   "source": []
  }
 ],
 "metadata": {
  "kernelspec": {
   "display_name": "Python 3",
   "language": "python",
   "name": "python3"
  },
  "language_info": {
   "codemirror_mode": {
    "name": "ipython",
    "version": 3
   },
   "file_extension": ".py",
   "mimetype": "text/x-python",
   "name": "python",
   "nbconvert_exporter": "python",
   "pygments_lexer": "ipython3",
   "version": "3.6.5"
  }
 },
 "nbformat": 4,
 "nbformat_minor": 2
}
